{
 "cells": [
  {
   "cell_type": "markdown",
   "metadata": {},
   "source": [
    "# search-papers\n",
    "- skip_showdoc: true\n",
    "- skip_exec: true"
   ]
  },
  {
   "cell_type": "code",
   "execution_count": null,
   "metadata": {},
   "outputs": [],
   "source": [
    "import requests\n",
    "import os"
   ]
  },
  {
   "cell_type": "code",
   "execution_count": null,
   "metadata": {},
   "outputs": [],
   "source": [
    "\n",
    "headers = {\n",
    "    'Content-Type': 'application/json',\n",
    "    'Accept': 'application/json',\n",
    "    'x-els-apikey': os.environ['ELSEVIER_API_KEY'],\n",
    "}\n",
    "\n",
    "json_data = {\n",
    "    'qs': '(heat related illness) AND policy',\n",
    "    'pub': '\"Cell\"',\n",
    "    'filters': {\n",
    "        'openAccess': False,\n",
    "    },\n",
    "    'display': {\n",
    "        'offset': 0,\n",
    "        'show': 25,\n",
    "        'sortBy': 'date',\n",
    "    },\n",
    "}\n",
    "\n",
    "response = requests.put('https://api.elsevier.com/content/search/sciencedirect', headers=headers, json=json_data)"
   ]
  },
  {
   "cell_type": "code",
   "execution_count": null,
   "metadata": {},
   "outputs": [
    {
     "data": {
      "text/plain": [
       "'{\"resultsFound\":27,\"results\":[{\"authors\":[{\"order\":1,\"name\":\"Ajay K. Singh\"},{\"order\":2,\"name\":\"Phaneendra K. Duddempudi\"},{\"order\":5,\"name\":\"Nitin P. Amdare\"}],\"doi\":\"10.1016/bs.ircmb.2024.04.002\",\"loadDate\":\"2024-05-31T00:00:00.000Z\",\"openAccess\":false,\"pages\":{},\"pii\":\"S193764482400073X\",\"publicationDate\":\"2024-05-31\",\"sourceTitle\":\"International Review of Cell and Molecular Biology\",\"title\":\"Immunological landscape of solid cancer: Interplay between tumor and autoimmunity\",\"uri\":\"https://www.sciencedirect.com/science/article/pii/S193764482400073X?dgcid=api_sd_search-api-endpoint\"},{\"authors\":[{\"order\":1,\"name\":\"Christopher J. Lehmann\"},{\"order\":2,\"name\":\"Nicholas P. Dylla\"},{\"order\":21,\"name\":\"Aalok Kacha\"}],\"doi\":\"10.1016/j.chom.2023.11.016\",\"loadDate\":\"2023-12-15T00:00:00.000Z\",\"openAccess\":false,\"pages\":{\"first\":\"117\",\"last\":\"130.e4\"},\"pii\":\"S1931312823004651\",\"publicationDate\":\"2024-01-10\",\"sourceTitle\":\"Cell Host & Microbe\",\"title\":\"Fecal metabolite profiling identifies liver transplant recipients at risk for postoperative infection\",\"uri\":\"https://www.sciencedirect.com/science/article/pii/S1931312823004651?dgcid=api_sd_search-api-endpoint\",\"volumeIssue\":\"Volume 32, Issue 1\"},{\"authors\":[{\"order\":1,\"name\":\"Stefaan W. Van Gool\"},{\"order\":2,\"name\":\"Peter Van de Vliet\"},{\"order\":8,\"name\":\"Wilfried Stuecker\"}],\"doi\":\"10.1016/bs.mcb.2023.06.001\",\"loadDate\":\"2023-10-19T00:00:00.000Z\",\"openAccess\":false,\"pages\":{\"first\":\"51\",\"last\":\"113\"},\"pii\":\"S0091679X23001139\",\"publicationDate\":\"2024-12-31\",\"sourceTitle\":\"Methods in Cell Biology\",\"title\":\"Chapter 3: Methods behind oncolytic virus-based DC vaccines in cancer: Toward a multiphase combined treatment strategy for Glioblastoma (GBM) patients\",\"uri\":\"https://www.sciencedirect.com/science/article/pii/S0091679X23001139?dgcid=api_sd_search-api-endpoint\",\"volumeIssue\":\"Volume 183\"},{\"authors\":[{\"order\":1,\"name\":\"Matthew S. Sutton\"},{\"order\":2,\"name\":\"Sergei Pletnev\"},{\"order\":32,\"name\":\"Mario Roederer\"}],\"doi\":\"10.1016/j.cell.2023.05.019\",\"loadDate\":\"2023-06-08T00:00:00.000Z\",\"openAccess\":false,\"pages\":{\"first\":\"2672\",\"last\":\"2689.e25\"},\"pii\":\"S009286742300538X\",\"publicationDate\":\"2023-06-08\",\"sourceTitle\":\"Cell\",\"title\":\"Vaccine elicitation and structural basis for antibody protection against alphaviruses\",\"uri\":\"https://www.sciencedirect.com/science/article/pii/S009286742300538X?dgcid=api_sd_search-api-endpoint\",\"volumeIssue\":\"Volume 186, Issue 12\"},{\"authors\":[{\"order\":1,\"name\":\"Stefania Capone\"},{\"order\":2,\"name\":\"Francesco M. Fusco\"},{\"order\":38,\"name\":\"Roberto Camerini\"}],\"doi\":\"10.1016/j.xcrm.2023.101084\",\"loadDate\":\"2023-05-29T00:00:00.000Z\",\"openAccess\":true,\"pages\":{\"first\":\"101084\"},\"pii\":\"S2666379123002033\",\"publicationDate\":\"2023-06-20\",\"sourceTitle\":\"Cell Reports Medicine\",\"title\":\"GRAd-COV2 vaccine provides potent and durable humoral and cellular immunity to SARS-CoV-2 in randomized placebo-controlled phase 2 trial\",\"uri\":\"https://www.sciencedirect.com/science/article/pii/S2666379123002033?dgcid=api_sd_search-api-endpoint\",\"volumeIssue\":\"Volume 4, Issue 6\"},{\"authors\":[{\"order\":1,\"name\":\"A. Divya\"},{\"order\":2,\"name\":\"T. Adish\"},{\"order\":4,\"name\":\"P. S. Zade\"}],\"doi\":\"10.1016/j.solmat.2022.112151\",\"loadDate\":\"2023-02-11T00:00:00.000Z\",\"openAccess\":false,\"pages\":{\"first\":\"112151\"},\"pii\":\"S0927024822005682\",\"publicationDate\":\"2023-05-31\",\"sourceTitle\":\"Solar Energy Materials and Solar Cells\",\"title\":\"Review on recycling of solar modules/panels\",\"uri\":\"https://www.sciencedirect.com/science/article/pii/S0927024822005682?dgcid=api_sd_search-api-endpoint\",\"volumeIssue\":\"Volume 253\"},{\"authors\":[{\"order\":1,\"name\":\"Anthony Fernández-Castañeda\"},{\"order\":2,\"name\":\"Peiwen Lu\"},{\"order\":45,\"name\":\"Michelle Monje\"}],\"doi\":\"10.1016/j.cell.2022.06.008\",\"loadDate\":\"2022-06-13T00:00:00.000Z\",\"openAccess\":true,\"pages\":{\"first\":\"2452\",\"last\":\"2468.e16\"},\"pii\":\"S0092867422007139\",\"publicationDate\":\"2022-07-07\",\"sourceTitle\":\"Cell\",\"title\":\"Mild respiratory COVID can cause multi-lineage neural cell and myelin dysregulation\",\"uri\":\"https://www.sciencedirect.com/science/article/pii/S0092867422007139?dgcid=api_sd_search-api-endpoint\",\"volumeIssue\":\"Volume 185, Issue 14\"},{\"authors\":[{\"order\":1,\"name\":\"Kathryn Westendorf\"},{\"order\":2,\"name\":\"Stefanie Žentelis\"},{\"order\":69,\"name\":\"Bryan C. Barnhart\"}],\"doi\":\"10.1016/j.celrep.2022.110812\",\"loadDate\":\"2022-04-25T00:00:00.000Z\",\"openAccess\":true,\"pages\":{\"first\":\"110812\"},\"pii\":\"S2211124722005836\",\"publicationDate\":\"2022-05-17\",\"sourceTitle\":\"Cell Reports\",\"title\":\"LY-CoV1404 (bebtelovimab) potently neutralizes SARS-CoV-2 variants\",\"uri\":\"https://www.sciencedirect.com/science/article/pii/S2211124722005836?dgcid=api_sd_search-api-endpoint\",\"volumeIssue\":\"Volume 39, Issue 7\"},{\"authors\":[{\"order\":1,\"name\":\"Marit J. van Gils\"},{\"order\":2,\"name\":\"Hugo D. G. van Willigen\"},{\"order\":27,\"name\":\"Menno D. de Jong\"}],\"doi\":\"10.1016/j.xcrm.2021.100486\",\"loadDate\":\"2021-12-14T00:00:00.000Z\",\"openAccess\":true,\"pages\":{\"first\":\"100486\"},\"pii\":\"S266637912100358X\",\"publicationDate\":\"2022-01-18\",\"sourceTitle\":\"Cell Reports Medicine\",\"title\":\"A single mRNA vaccine dose in COVID-19 patients boosts neutralizing antibodies against SARS-CoV-2 and variants of concern\",\"uri\":\"https://www.sciencedirect.com/science/article/pii/S266637912100358X?dgcid=api_sd_search-api-endpoint\",\"volumeIssue\":\"Volume 3, Issue 1\"},{\"authors\":[{\"order\":1,\"name\":\"Tomer Zohar\"},{\"order\":2,\"name\":\"Jeff C. Hsiao\"},{\"order\":17,\"name\":\"Galit Alter\"}],\"doi\":\"10.1016/j.chom.2021.11.006\",\"loadDate\":\"2021-12-07T00:00:00.000Z\",\"openAccess\":true,\"pages\":{\"first\":\"41\",\"last\":\"52.e5\"},\"pii\":\"S1931312821005126\",\"publicationDate\":\"2022-01-12\",\"sourceTitle\":\"Cell Host & Microbe\",\"title\":\"Upper and lower respiratory tract correlates of protection against respiratory syncytial virus following vaccination of nonhuman primates\",\"uri\":\"https://www.sciencedirect.com/science/article/pii/S1931312821005126?dgcid=api_sd_search-api-endpoint\",\"volumeIssue\":\"Volume 30, Issue 1\"},{\"authors\":[{\"order\":1,\"name\":\"Wanlu Du\"},{\"order\":2,\"name\":\"Mingxue Gu\"},{\"order\":9,\"name\":\"Haoxing Xu\"}],\"doi\":\"10.1016/j.celrep.2021.109848\",\"loadDate\":\"2021-10-19T00:00:00.000Z\",\"openAccess\":true,\"pages\":{\"first\":\"109848\"},\"pii\":\"S2211124721013127\",\"publicationDate\":\"2021-10-19\",\"sourceTitle\":\"Cell Reports\",\"title\":\"Lysosomal Zn<ce:sup\\xa0loc=post>2+</ce:sup> release triggers rapid, mitochondria-mediated, non-apoptotic cell death in metastatic melanoma\",\"uri\":\"https://www.sciencedirect.com/science/article/pii/S2211124721013127?dgcid=api_sd_search-api-endpoint\",\"volumeIssue\":\"Volume 37, Issue 3\"},{\"authors\":[{\"order\":1,\"name\":\"Rita E. Chen\"},{\"order\":2,\"name\":\"Brittany K. Smith\"},{\"order\":19,\"name\":\"Michael S. Diamond\"}],\"doi\":\"10.1016/j.chom.2021.09.006\",\"loadDate\":\"2021-10-04T00:00:00.000Z\",\"openAccess\":true,\"pages\":{\"first\":\"1634\",\"last\":\"1648.e5\"},\"pii\":\"S1931312821004224\",\"publicationDate\":\"2021-11-10\",\"sourceTitle\":\"Cell Host & Microbe\",\"title\":\"Implications of a highly divergent dengue virus strain for cross-neutralization, protection, and vaccine immunity\",\"uri\":\"https://www.sciencedirect.com/science/article/pii/S1931312821004224?dgcid=api_sd_search-api-endpoint\",\"volumeIssue\":\"Volume 29, Issue 11\"},{\"authors\":[{\"order\":1,\"name\":\"Chang Liu\"},{\"order\":2,\"name\":\"Helen M. Ginn\"},{\"order\":59,\"name\":\"Gavin R. Screaton\"}],\"doi\":\"10.1016/j.cell.2021.06.020\",\"loadDate\":\"2021-06-17T00:00:00.000Z\",\"openAccess\":true,\"pages\":{\"first\":\"4220\",\"last\":\"4236.e13\"},\"pii\":\"S0092867421007558\",\"publicationDate\":\"2021-08-05\",\"sourceTitle\":\"Cell\",\"title\":\"Reduced neutralization of SARS-CoV-2 B.1.617 by vaccine and convalescent serum\",\"uri\":\"https://www.sciencedirect.com/science/article/pii/S0092867421007558?dgcid=api_sd_search-api-endpoint\",\"volumeIssue\":\"Volume 184, Issue 16\"},{\"authors\":[{\"order\":1,\"name\":\"Ariel Munitz\"},{\"order\":2,\"name\":\"Matan Yechezkel\"},{\"order\":5,\"name\":\"Motti Gerlic\"}],\"doi\":\"10.1016/j.xcrm.2021.100264\",\"loadDate\":\"2021-04-18T00:00:00.000Z\",\"openAccess\":true,\"pages\":{\"first\":\"100264\"},\"pii\":\"S266637912100080X\",\"publicationDate\":\"2021-05-18\",\"sourceTitle\":\"Cell Reports Medicine\",\"title\":\"BNT162b2 vaccination effectively prevents the rapid rise of SARS-CoV-2 variant B.1.1.7 in high-risk populations in Israel\",\"uri\":\"https://www.sciencedirect.com/science/article/pii/S266637912100080X?dgcid=api_sd_search-api-endpoint\",\"volumeIssue\":\"Volume 2, Issue 5\"},{\"authors\":[{\"order\":1,\"name\":\"Caroline Atyeo\"},{\"order\":2,\"name\":\"Krista M. Pullen\"},{\"order\":26,\"name\":\"Galit Alter\"}],\"doi\":\"10.1016/j.cell.2020.12.027\",\"loadDate\":\"2020-12-23T00:00:00.000Z\",\"openAccess\":true,\"pages\":{\"first\":\"628\",\"last\":\"642.e10\"},\"pii\":\"S0092867420317499\",\"publicationDate\":\"2021-02-04\",\"sourceTitle\":\"Cell\",\"title\":\"Compromised SARS-CoV-2-specific placental antibody transfer\",\"uri\":\"https://www.sciencedirect.com/science/article/pii/S0092867420317499?dgcid=api_sd_search-api-endpoint\",\"volumeIssue\":\"Volume 184, Issue 3\"},{\"authors\":[{\"order\":1,\"name\":\"Matthew D. Marsden\"},{\"order\":2,\"name\":\"Tian-hao Zhang\"},{\"order\":12,\"name\":\"Jerome A. Zack\"}],\"doi\":\"10.1016/j.xcrm.2020.100162\",\"loadDate\":\"2020-12-22T00:00:00.000Z\",\"openAccess\":true,\"pages\":{\"first\":\"100162\"},\"pii\":\"S2666379120302093\",\"publicationDate\":\"2020-12-22\",\"sourceTitle\":\"Cell Reports Medicine\",\"title\":\"Tracking HIV Rebound following Latency Reversal Using Barcoded HIV\",\"uri\":\"https://www.sciencedirect.com/science/article/pii/S2666379120302093?dgcid=api_sd_search-api-endpoint\",\"volumeIssue\":\"Volume 1, Issue 9\"},{\"authors\":[{\"order\":1,\"name\":\"Carolyn Rydyznski Moderbacher\"},{\"order\":2,\"name\":\"Sydney I. Ramirez\"},{\"order\":24,\"name\":\"Shane Crotty\"}],\"doi\":\"10.1016/j.cell.2020.09.038\",\"loadDate\":\"2020-09-16T00:00:00.000Z\",\"openAccess\":true,\"pages\":{\"first\":\"996\",\"last\":\"1012.e19\"},\"pii\":\"S0092867420312356\",\"publicationDate\":\"2020-11-12\",\"sourceTitle\":\"Cell\",\"title\":\"Antigen-Specific Adaptive Immunity to SARS-CoV-2 in Acute COVID-19 and Associations with Age and Disease Severity\",\"uri\":\"https://www.sciencedirect.com/science/article/pii/S0092867420312356?dgcid=api_sd_search-api-endpoint\",\"volumeIssue\":\"Volume 183, Issue 4\"},{\"authors\":[{\"order\":1,\"name\":\"Petra Mlcochova\"},{\"order\":2,\"name\":\"Dami Collier\"},{\"order\":36,\"name\":\"Ravindra K. Gupta\"}],\"doi\":\"10.1016/j.xcrm.2020.100099\",\"loadDate\":\"2020-09-01T00:00:00.000Z\",\"openAccess\":true,\"pages\":{\"first\":\"100099\"},\"pii\":\"S2666379120301257\",\"publicationDate\":\"2020-09-22\",\"sourceTitle\":\"Cell Reports Medicine\",\"title\":\"Combined Point-of-Care Nucleic Acid and Antibody Testing for SARS-CoV-2 following Emergence of D614G Spike Variant\",\"uri\":\"https://www.sciencedirect.com/science/article/pii/S2666379120301257?dgcid=api_sd_search-api-endpoint\",\"volumeIssue\":\"Volume 1, Issue 6\"},{\"authors\":[{\"order\":1,\"name\":\"Simone J. C. F. M. Moorlag\"},{\"order\":2,\"name\":\"Rosanne C. van Deuren\"},{\"order\":24,\"name\":\"Mihai G. Netea\"}],\"doi\":\"10.1016/j.xcrm.2020.100073\",\"loadDate\":\"2020-08-05T00:00:00.000Z\",\"openAccess\":true,\"pages\":{\"first\":\"100073\"},\"pii\":\"S2666379120300938\",\"publicationDate\":\"2020-08-25\",\"sourceTitle\":\"Cell Reports Medicine\",\"title\":\"Safety and COVID-19 Symptoms in Individuals Recently Vaccinated with BCG: a Retrospective Cohort Study\",\"uri\":\"https://www.sciencedirect.com/science/article/pii/S2666379120300938?dgcid=api_sd_search-api-endpoint\",\"volumeIssue\":\"Volume 1, Issue 5\"},{\"authors\":[{\"order\":1,\"name\":\"Barbara K. Felber\"},{\"order\":2,\"name\":\"Zhongyan Lu\"},{\"order\":37,\"name\":\"George N. Pavlakis\"}],\"doi\":\"10.1016/j.celrep.2020.107624\",\"loadDate\":\"2020-05-12T00:00:00.000Z\",\"openAccess\":true,\"pages\":{\"first\":\"107624\"},\"pii\":\"S2211124720305775\",\"publicationDate\":\"2020-05-12\",\"sourceTitle\":\"Cell Reports\",\"title\":\"Co-immunization of DNA and Protein in the Same Anatomical Sites Induces Superior Protective Immune Responses against SHIV Challenge\",\"uri\":\"https://www.sciencedirect.com/science/article/pii/S2211124720305775?dgcid=api_sd_search-api-endpoint\",\"volumeIssue\":\"Volume 31, Issue 6\"},{\"doi\":\"10.1016/B978-0-12-812034-7.20001-0\",\"loadDate\":\"2020-02-28T00:00:00.000Z\",\"openAccess\":false,\"pages\":{\"first\":\"783\",\"last\":\"815\"},\"pii\":\"B9780128120347200010\",\"publicationDate\":\"2020-12-31\",\"sourceTitle\":\"Second Generation Cell and Gene-based Therapies\",\"title\":\"Index\",\"uri\":\"https://www.sciencedirect.com/science/article/pii/B9780128120347200010?dgcid=api_sd_search-api-endpoint\"},{\"authors\":[{\"order\":1,\"name\":\"Elias Zerhouni\"}],\"doi\":\"10.1016/j.cell.2019.08.026\",\"loadDate\":\"2019-09-10T00:00:00.000Z\",\"openAccess\":true,\"pages\":{\"first\":\"13\",\"last\":\"17\"},\"pii\":\"S0092867419309456\",\"publicationDate\":\"2019-09-19\",\"sourceTitle\":\"Cell\",\"title\":\"GAVI, the Vaccine Alliance\",\"uri\":\"https://www.sciencedirect.com/science/article/pii/S0092867419309456?dgcid=api_sd_search-api-endpoint\",\"volumeIssue\":\"Volume 179, Issue 1\"},{\"authors\":[{\"order\":1,\"name\":\"Ichiro Misumi\"},{\"order\":2,\"name\":\"Kevin D. Cook\"},{\"order\":12,\"name\":\"Jason K. Whitmire\"}],\"doi\":\"10.1016/j.celrep.2019.04.004\",\"loadDate\":\"2019-04-30T00:00:00.000Z\",\"openAccess\":true,\"pages\":{\"first\":\"1387\",\"last\":\"1396.e5\"},\"pii\":\"S2211124719304590\",\"publicationDate\":\"2019-04-30\",\"sourceTitle\":\"Cell Reports\",\"title\":\"Identification of a Locus in Mice that Regulates the Collateral Damage and Lethality of Virus Infection\",\"uri\":\"https://www.sciencedirect.com/science/article/pii/S2211124719304590?dgcid=api_sd_search-api-endpoint\",\"volumeIssue\":\"Volume 27, Issue 5\"},{\"authors\":[{\"order\":1,\"name\":\"Pongali Raghavendra\"},{\"order\":2,\"name\":\"Thammineni Pullaiah\"}],\"doi\":\"10.1016/B978-0-12-813679-9.00008-7\",\"loadDate\":\"2018-01-29T00:00:00.000Z\",\"openAccess\":false,\"pages\":{\"first\":\"203\",\"last\":\"270\"},\"pii\":\"B9780128136799000087\",\"publicationDate\":\"2018-12-31\",\"sourceTitle\":\"Advances in Cell and Molecular Diagnostics\",\"title\":\"Chapter 8: Future of Cellular and Molecular Diagnostics: Bench to Bedside\",\"uri\":\"https://www.sciencedirect.com/science/article/pii/B9780128136799000087?dgcid=api_sd_search-api-endpoint\"},{\"authors\":[{\"order\":1,\"name\":\"Aarti Jagannath\"},{\"order\":2,\"name\":\"Rachel Butler\"},{\"order\":19,\"name\":\"Stuart\\xa0N. Peirson\"}],\"doi\":\"10.1016/j.cell.2013.08.004\",\"loadDate\":\"2013-08-29T00:00:00.000Z\",\"openAccess\":true,\"pages\":{\"first\":\"1100\",\"last\":\"1111\"},\"pii\":\"S0092867413009616\",\"publicationDate\":\"2013-08-29\",\"sourceTitle\":\"Cell\",\"title\":\"The CRTC1-SIK1 Pathway Regulates Entrainment of the Circadian Clock\",\"uri\":\"https://www.sciencedirect.com/science/article/pii/S0092867413009616?dgcid=api_sd_search-api-endpoint\",\"volumeIssue\":\"Volume 154, Issue 5\"}],\"details\":{}}'"
      ]
     },
     "execution_count": null,
     "metadata": {},
     "output_type": "execute_result"
    }
   ],
   "source": [
    "response.text"
   ]
  },
  {
   "cell_type": "code",
   "execution_count": null,
   "metadata": {},
   "outputs": [],
   "source": [
    "import pandas as pd"
   ]
  },
  {
   "cell_type": "code",
   "execution_count": null,
   "metadata": {},
   "outputs": [],
   "source": [
    "import json"
   ]
  },
  {
   "cell_type": "code",
   "execution_count": null,
   "metadata": {},
   "outputs": [],
   "source": [
    "json_data = json.loads(response.text)['results']"
   ]
  },
  {
   "cell_type": "code",
   "execution_count": null,
   "metadata": {},
   "outputs": [],
   "source": [
    "df = pd.json_normalize(json_data)"
   ]
  },
  {
   "cell_type": "code",
   "execution_count": null,
   "metadata": {},
   "outputs": [
    {
     "data": {
      "text/plain": [
       "[{'order': 1, 'name': 'Ajay K. Singh'},\n",
       " {'order': 2, 'name': 'Phaneendra K. Duddempudi'},\n",
       " {'order': 5, 'name': 'Nitin P. Amdare'}]"
      ]
     },
     "execution_count": null,
     "metadata": {},
     "output_type": "execute_result"
    }
   ],
   "source": [
    "df.loc[0, 'authors']"
   ]
  },
  {
   "cell_type": "code",
   "execution_count": null,
   "metadata": {},
   "outputs": [
    {
     "data": {
      "text/plain": [
       "list"
      ]
     },
     "execution_count": null,
     "metadata": {},
     "output_type": "execute_result"
    }
   ],
   "source": [
    "type(df.loc[0, 'authors'])"
   ]
  },
  {
   "cell_type": "code",
   "execution_count": null,
   "metadata": {},
   "outputs": [
    {
     "data": {
      "text/plain": [
       "'Ajay K. Singh'"
      ]
     },
     "execution_count": null,
     "metadata": {},
     "output_type": "execute_result"
    }
   ],
   "source": [
    "df.loc[0, 'authors'][0]['name']"
   ]
  },
  {
   "cell_type": "code",
   "execution_count": null,
   "metadata": {},
   "outputs": [],
   "source": [
    "df['authors'] = df['authors'].apply(lambda x: ', '.join([i['name'] for i in x]))"
   ]
  },
  {
   "cell_type": "code",
   "execution_count": null,
   "metadata": {},
   "outputs": [
    {
     "data": {
      "text/plain": [
       "0     [{'order': 1, 'name': 'Ajay K. Singh'}, {'orde...\n",
       "1     [{'order': 1, 'name': 'Christopher J. Lehmann'...\n",
       "2     [{'order': 1, 'name': 'Stefaan W. Van Gool'}, ...\n",
       "3     [{'order': 1, 'name': 'Matthew S. Sutton'}, {'...\n",
       "4     [{'order': 1, 'name': 'Stefania Capone'}, {'or...\n",
       "5     [{'order': 1, 'name': 'A. Divya'}, {'order': 2...\n",
       "6     [{'order': 1, 'name': 'Anthony Fernández-Casta...\n",
       "7     [{'order': 1, 'name': 'Kathryn Westendorf'}, {...\n",
       "8     [{'order': 1, 'name': 'Marit J. van Gils'}, {'...\n",
       "9     [{'order': 1, 'name': 'Tomer Zohar'}, {'order'...\n",
       "10    [{'order': 1, 'name': 'Wanlu Du'}, {'order': 2...\n",
       "11    [{'order': 1, 'name': 'Rita E. Chen'}, {'order...\n",
       "12    [{'order': 1, 'name': 'Chang Liu'}, {'order': ...\n",
       "13    [{'order': 1, 'name': 'Ariel Munitz'}, {'order...\n",
       "14    [{'order': 1, 'name': 'Caroline Atyeo'}, {'ord...\n",
       "15    [{'order': 1, 'name': 'Matthew D. Marsden'}, {...\n",
       "16    [{'order': 1, 'name': 'Carolyn Rydyznski Moder...\n",
       "17    [{'order': 1, 'name': 'Petra Mlcochova'}, {'or...\n",
       "18    [{'order': 1, 'name': 'Simone J. C. F. M. Moor...\n",
       "19    [{'order': 1, 'name': 'Barbara K. Felber'}, {'...\n",
       "20                                                  NaN\n",
       "21             [{'order': 1, 'name': 'Elias Zerhouni'}]\n",
       "22    [{'order': 1, 'name': 'Ichiro Misumi'}, {'orde...\n",
       "23    [{'order': 1, 'name': 'Pongali Raghavendra'}, ...\n",
       "24    [{'order': 1, 'name': 'Aarti Jagannath'}, {'or...\n",
       "Name: authors, dtype: object"
      ]
     },
     "execution_count": null,
     "metadata": {},
     "output_type": "execute_result"
    }
   ],
   "source": [
    "df['authors']"
   ]
  },
  {
   "cell_type": "code",
   "execution_count": null,
   "metadata": {},
   "outputs": [
    {
     "data": {
      "text/plain": [
       "authors                                                          NaN\n",
       "doi                               10.1016/B978-0-12-812034-7.20001-0\n",
       "loadDate                                    2020-02-28T00:00:00.000Z\n",
       "openAccess                                                     False\n",
       "pii                                             B9780128120347200010\n",
       "publicationDate                                           2020-12-31\n",
       "sourceTitle          Second Generation Cell and Gene-based Therapies\n",
       "title                                                          Index\n",
       "uri                https://www.sciencedirect.com/science/article/...\n",
       "volumeIssue                                                      NaN\n",
       "pages.first                                                      783\n",
       "pages.last                                                       815\n",
       "Name: 20, dtype: object"
      ]
     },
     "execution_count": null,
     "metadata": {},
     "output_type": "execute_result"
    }
   ],
   "source": [
    "df.iloc[20]"
   ]
  },
  {
   "cell_type": "code",
   "execution_count": null,
   "metadata": {},
   "outputs": [],
   "source": []
  }
 ],
 "metadata": {
  "kernelspec": {
   "display_name": "python3",
   "language": "python",
   "name": "python3"
  }
 },
 "nbformat": 4,
 "nbformat_minor": 2
}
